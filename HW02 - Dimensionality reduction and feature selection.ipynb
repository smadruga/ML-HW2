{
 "cells": [
  {
   "cell_type": "markdown",
   "metadata": {},
   "source": [
    "### Machine Learning\n",
    "\n",
    "# Practical Work 2: Seleção de Características e Redução da Dimensionalidade \n",
    "\n",
    "### Alunos:\n",
    "- Adriel Santos\n",
    "- Rodrigo Campo"
   ]
  },
  {
   "cell_type": "markdown",
   "metadata": {},
   "source": [
    "## Introdução \n",
    " \n",
    "Ao se trabalhar com atividades de aprendizado de máquina, citando aqui classificação e regressão como exemplos, inevitavelmente fazemos uso de bases de dados que correspondem ao contexto do trabalho. Estes dados podem ser extraídos de diversas fontes como internet, imagens, sensores e até mesmo de banco de dados, dando origem, muitas vezes, à uma base composta por diversos atributos que, em conjunto, podem rotular um objeto.\n",
    "\n",
    "É sabido que para gerar um bom modelo de predição é necessário ter dados suficientemente bons, capazes de determinar os rótulos dos objetos de uma base. Ao contrário do que o senso comum nos diz, nem sempre mais é melhor quando estamos falando de classificação ou regressão. O excesso de atributos pode, muitas vezes, por a perder o processo de predição por ter dados não coerentes com o contexto trabalhado. Frequentemente, torna-se necessário então, limitar a quantidade de atributos de entrada para se obter um bom modelo de predição. Além disso, um menor número de atributos pode melhorar o desempenho do processo de geração do modelo. Quando o espaço de características contém somente as características mais salientes, o classificador será mais rápido e irá ocupar menos memória (Jain *et al.*, 2000).\n",
    "\n",
    "Diante disso, o objetivo deste trabalho é fazer uma introdução sobre técnicas de seleção de características, também conhecida na literatura como seleção de atributos. Além disso, o trabalho aponta diferenças, de acordo com alguns autores, entre seleção de características e redução da dimensionalidade. Neste contexto, o trabalho oferece ainda alguns exemplos práticos para melhor entendimento das técnicas apresentadas. \n",
    "\n",
    "\n",
    "## Seleção de Características e Redução da Dimensionalidade: existe diferença?\n",
    " \n",
    "Ambas metodologias buscam reduzir o número de características/atributos selecionado o menor conjunto que pode resultar em um  desempenho de predição satisfatório. O Objetivo é sempre obter as características mais relevantes ao modelo de predição. Na literatura são encontrados trabalhos que consideram as duas técnicas como sinônimas e ainda autores que apontam diferenças, sutís ou não, entre elas.\n",
    "\n",
    "Partindo do conceito que apresenta dimensionalidade, neste contexto, como o número de características necessárias para representar um padrão, podemos considerar que os termos são sinônimos. Contudo há autores que delimitam o significado das técnicas considerando a forma como os dados são gerados. Campos (2001) e Brownlee (2014) nos apresentam:\n",
    "\n",
    "- Redução da dimensionalidade: Etapa de criação de novas combinações de atributos a partir de um grupo de características originais. Por exemplo: reduzir a dimensionalidade de uma imagem para melhorar o processo de predição de um modelo, uma vez que, originalmente, uma imagem apresenta dimensionalidade M, onde M = altura X comprimento X precisão do pixel. Este \"excesso\" de dados provavelmente provocaria uma desestabilização no modelo.\n",
    "\n",
    "- Seleção de Características: Processo que obtém um subgrupo de características, consideradas como as mais relevantes, a partir do conjunto original de características. Por exemplo, escolher em uma base com 80 atributos, quais são os 30 que compõem o conjunto que mais favorece o modelo de predição. \n",
    "\n",
    "As duas técnicas podem ainda ser utilizadas em conjunto. Situações mais rotineiras do uso híbrido das duas técnicas são encontradas em trabalhos que envolvem imagens digitais. Resmini (2016), por exemplo, combina as duas técnicas extraindo diversos dados de imagens digitais da mama e selecionando posteriormente quais são os atributos que melhor contribuem para o modelo de classificação.\n",
    "\n",
    "Este trabalho apresenta técnicas de redução da dimensionalidade usando imagens digitais e extraindo dados, a partir de descritores estatísticos. Em contraponto, apresenta também técnicas de seleção de características a partir de um conjunto de dados originais já formados. "
   ]
  },
  {
   "cell_type": "markdown",
   "metadata": {},
   "source": [
    "##  Redução da dimensionalidade\n",
    "\n",
    "Partindo do conceito de que a redução da dimensionalidade cria um conjunto de características X a partir de um grupo original Y, onde X é diferente de  Y, podemos apresentar exemplos de técnicas que reduzem a dimensionalidade de imagens digitais. Essas técnicas são muito empregadas neste contexto, extraindo dados importantes da imagem que irão ajudar no processo de predição do modelo. "
   ]
  },
  {
   "cell_type": "markdown",
   "metadata": {},
   "source": [
    "Originalmente, uma imagem apresenta dimensão M:\n",
    "\n",
    "$$\n",
    "M = X * Y * Z\n",
    "$$\n",
    "\n",
    "\n",
    "> **Onde:** \n",
    "- X Representa o número de colunas;\n",
    "- Y Representa o número de linhas;\n",
    "- Z Representa a profundidade de canais da imagem;\n",
    "\n",
    "Este número, geralmente, é muito grande. Sendo assim, a necessidade de redução da dimensionalidade ao se trabalhar com imagens é de grande importância, uma vez que muitas características originais podem ser eliminadas/transformadas para melhor resultado do modelo de predição (Campos, 2001).\n",
    "\n"
   ]
  },
  {
   "cell_type": "markdown",
   "metadata": {},
   "source": [
    "### Extração de características de textura como forma de redução da dimensionalidade\n",
    "\n",
    "Uma etapa importante no processo de redução da dimensionalidade é saber identificar quais os tipos de características são úteis ao trabalho de predição. Das informações possíveis de serem extraídas em uma imagem, em muitas situações, as ligadas à textura são particularmente relevantes. De forma simplificada podemos entender textura, em Computação Gráfica, como dados que apresentam propriedades de uma imagem ligadas à cor, luminância e rugosidade (Resmini, 2016)."
   ]
  },
  {
   "cell_type": "markdown",
   "metadata": {},
   "source": [
    "<div class=\"container-fluid\">\n",
    "    <div class=\"row\">\n",
    "        <div class=\"col-md-4\" align='center'></div>\n",
    "        <div class=\"col-md-4\" align='center'>\n",
    "            <img src='http://electronicimaging.spiedigitallibrary.org/data/journals/electim/22339/013013_1_6.png'/>\n",
    "           Exemplo de diversas texturas\n",
    "        </div>\n",
    "        <div class=\"col-md-6\" align='center'></div>\n",
    "    </div>\n",
    "</div>"
   ]
  },
  {
   "cell_type": "markdown",
   "metadata": {},
   "source": [
    "A escolha de quais características serão extraídas em uma imagem define a taxa de redução da dimensionalidade utilizada.\n",
    "\n",
    "Uma estratégia de extração de característica bastante usada na literatura é a Matriz de Co-ocorrência em Escala de Cinza do inglês Grey Level Cooccurrence Matrix - GLCM (Haralick *et. al.*, 1973). A GLCM pode ser vista como uma matriz quadrada da quantidade de tons de uma imagem. Essa matriz computa as co-ocorrências de dois pixels dada uma distância e uma direção. Em suma cada posição da Matriz de Co-ocorrência armazena a frequência com que o pixel de valor *i* e o pixel de valor *j* ocorrem em uma imagem.\n",
    "\n",
    "\n",
    "\n",
    "$$\n",
    "C(d,θ) =\t\\sum_{x=1}^{n} \\sum_{y=1}^{m}  \\{\n",
    "1, \\ se \\ I(x,y) \\ = \\ i \\ e \\ I(x', y') \\ = \\  j;\n",
    "\\ 0,\\  outro \\ caso \\}\n",
    "$$\n",
    "\n",
    "\n",
    "> **Onde:** \n",
    "- *d* Representa a distância;\n",
    "- *θ* Representa a direção (ou ângulo);\n",
    "- *N* Representa o número de linhas\n",
    "- *M* Representa o número de colunas\n",
    "- *I* Representa a imagem\n",
    "\n",
    "\n",
    "Haralick *et. al.*(1973), define um conjunto de 14 descritores estatísticos que podem ser extraídos a partir da GLCM. Estes descritores baseiam-se na relação espacial entre os tons de cinza de uma imagem e são amplamente usados na literatura como características texturais de imagens. \n",
    "\n",
    "Neste trabalho vamos apresentar exemplos de redução da dimensionalidade de uma imagem com dimensão X \\* Y \\* Z *(Equação 1)* para 5 características baseadas nos seguintes descritores de Haralick *et. al.* (1973): Contraste, Dissimilaridade, Homogeneidade, Segundo Momento Angular e Energia. \n",
    "\n",
    "Para nos ajudar na extração destas características usaremos a biblioteca Skimage. No exemplo abaixo realizamos o carregamento a partir da própria biblioteca"
   ]
  },
  {
   "cell_type": "code",
   "execution_count": 47,
   "metadata": {},
   "outputs": [
    {
     "name": "stdout",
     "output_type": "stream",
     "text": [
      "Como carregamos uma imagem em escala de cinza a dimensão original desta imagem é 512 * 512 = 262144 \n"
     ]
    },
    {
     "data": {
      "image/png": "[encoded data removed]",
      "text/plain": [
       "<matplotlib.figure.Figure at 0x7f7c15729fd0>"
      ]
     },
     "metadata": {},
     "output_type": "display_data"
    }
   ],
   "source": [
    "% matplotlib inline\n",
    "import matplotlib.pyplot as plt\n",
    "from skimage import data\n",
    "\n",
    "\n",
    "#Carregamento e exibição da imagem\n",
    "image = data.camera()\n",
    "plt.imshow(image, cmap='gray')\n",
    "\n",
    "\n",
    "\n",
    "#DIMENSÃO ORIGINAL \n",
    "print(\"Como carregamos uma imagem em escala de cinza a dimensão original desta imagem é {} * {} = {} \"\n",
    "      .format(image.shape[0], image.shape[1], image.shape[0]*image.shape[1]))\n"
   ]
  },
  {
   "cell_type": "markdown",
   "metadata": {},
   "source": [
    "Uma vez que estamos com a imagem, o próximo passo diz respeito à geração da GLCM. Podemos facilmente extrair a co-ocorrência de tons desta imagem a partir do Sklearn. Basta acionarmos o método *greycomatrix* passando como parâmetros **a imagem, a distância (ou conjunto de distâncias) e o ângulo (ou conjunto de ângulos) **. Confira"
   ]
  },
  {
   "cell_type": "code",
   "execution_count": 48,
   "metadata": {},
   "outputs": [
    {
     "name": "stdout",
     "output_type": "stream",
     "text": [
      "A dimensão da GLCM é o número de tons da imagem ao quadrado: 65536\n"
     ]
    }
   ],
   "source": [
    "from skimage.feature import greycomatrix\n",
    "GLCM = greycomatrix(image, [1], [0])\n",
    "\n",
    "print(\"A dimensão da GLCM é o número de tons da imagem ao quadrado: {}\".format(GLCM.shape[0]*GLCM.shape[1]))\n"
   ]
  },
  {
   "cell_type": "markdown",
   "metadata": {},
   "source": [
    "Não iremos trabalhar diretamente com a GLCM e sim usar as suas medições de frequência de ocorrências de tons de cinza para extrair as características que nos interessam. Contudo, vale mencionar que nossa dimensão já foi reduzida de 262144 para 65536.\n",
    "\n",
    "\n",
    "Do cálculo da GLCM podemos extrair as características baseando-se nos descritores de Haralick comentados acima. Para isso, o Skimage implementa o *greycoprops*, um método para calcular as propriedades de uma GLCM. As propriedades nada mais são do que os descritores de Haralick que já nos referimos aqui. Para isso, basta passarmos ao método a GLCM já computada e qual descritor queremos calcular. Vamos lá."
   ]
  },
  {
   "cell_type": "code",
   "execution_count": 49,
   "metadata": {},
   "outputs": [
    {
     "name": "stdout",
     "output_type": "stream",
     "text": [
      "PRONTO! \n",
      "Temos agora um conjunto de características: [34000139, 1234567, 110556.23390773872, 11388.338597003516, 129694256]\n"
     ]
    }
   ],
   "source": [
    "from skimage.feature import greycoprops\n",
    "\n",
    "descritores = [\"contrast\", \"dissimilarity\", \"homogeneity\", \"energy\", \"ASM\"]\n",
    "caracteristicas = []\n",
    "\n",
    "for descritor in descritores:\n",
    "    caracteristicas.append(greycoprops(GLCM, descritor)[0][0])\n",
    "                           \n",
    "print(\"PRONTO! \\nTemos agora um conjunto de características:\", caracteristicas )\n",
    "                           \n"
   ]
  },
  {
   "cell_type": "markdown",
   "metadata": {},
   "source": [
    "Conseguimos reduzir dimensão da nossa imagem original obtendo um novo conjunto de características a partir do conjunto original (valores de tons de cinza). \n",
    "\n",
    "É claro que este é um exemplo a título de tutorial, para exemplificar o que pode ser feito neste contexto. Outras características podem ser extraídas de uma imagem, não fazendo necessariamente uso da GLCM. Abordagens geométricas (ex. LBP), baseadas no domínio da frequência (ex. Wavelets ou Fourier) ou ainda outras abordagens estatísticas (Momentos) poderiam ser utilizadas a fim de obter um conjunto de características mais preciso. \n",
    "\n",
    "Quando se obtém um vetor de características consideravelmente grande, pode-se ainda optar por técnicas de seleção de características para para reduzir a dimensão sem prejudicar o modelo de predição.  A seguir veremos alguns exemplos de técnicas de seleção de características"
   ]
  },
  {
   "cell_type": "markdown",
   "metadata": {},
   "source": [
    " \n",
    "## Seleção de Características\n",
    " \n",
    "É o processo de seleção automática dos atributos mais relevantes para o modelo de predição a ser trabalhado, incluindo ou excluindo atributos sem alterá-los, presentes no conjunto de dados original.\n",
    " \n",
    "Este método de seleção é bastante útil no momento de criar um modelo preditivo de melhor qualidade. O foco principal é escolher recursos que ofereçam melhor precisão e exijam menos dados, identificando e removendo atributos que não contribuem ou podem influenciar negativamente. Estre procedimento diminui a complexidade do modelo, tornando-o menos genérico e mais simples de entender e explicar, além de reduzir o seu tempo de treinamento.\n",
    " \n",
    "Portanto, pode-se definir feature selection (seleção de características) através do 3 pontos a seguir:\n",
    " \n",
    "- melhorar o desempenho da predição do modelo;\n",
    "- oferecer preditores mais rápidos e otimizados;\n",
    "- garantir que o processamento dos dados seja claro e de fácil compreensão.\n",
    " \n",
    "Ignorar a etapa de seleção de recuros pode introduzir uma tendência negativa no modelo ou torná-lo genérico demais, além de diminuir a acurácia especialmente algoritmos lineares tais como: linear e logistic regression.\n",
    " \n",
    "Os itens a seguir são úteis para orientar o usuário no momento da seleção dos atributos:\n",
    " \n",
    "- Avaliar a área de conhecimento com a qual se está trabalhando. Havendo domínio sobre o tema a sugestão é buscar um grupo de atributos que permita tirar o máximo proveito dos dados;\n",
    "- Verificar a compatibilidade entre os atributos e, quando não houver, normalizá-los;\n",
    "- Ao observar interdependência entre os atributos é interessante expandir os recursos através da construção de recursos conjuntivos, dentro das capacidades do computador;\n",
    "- Gerar atributos disjuntivos ou somas ponderadas em casos de não necessidade de corte de variáveis de entrada;\n",
    "- Utilizar um método de classificação variável para avaliar atributos individualmente e entender sua influência no sistema. Este método irá ajudar a identificar dados sujos/irrelevantes que poderão ser descartados;\n",
    "- Comparar diferentes métodos de seleção de atributos e avaliar qual a melhor abordagem de acordo com o modelo de predição em questão.\n",
    "\n",
    " \n",
    "### Algoritmos de seleção de atributos\n",
    " \n",
    "A seleção de atributos é divida em três classes de algoritmos: filter methods, wrapper methods e embedded methods.\n",
    " \n",
    "* Filter Methods\n",
    " \n",
    "A seleção de recursos através de métodos de filtragem utiliza-se de medidas estatísticas para atribuir um valor para cada atributo. Uma lista ordenada é gerada, servindo de base para decidir qual característica será mantida ou removida do modelo. \n",
    " \n",
    "Este tipo de método geralmente considera uma única variável, analisando cada atributo de maneira independente ou de acordo com sua variável dependente.\n",
    " \n",
    "Alguns exemplos de algoritmos deste tipo são: Chi squared test, information gain e correlation coefficient scores.\n",
    " \n",
    "* Wrapper Methods\n",
    " \n",
    "Trata a seleção de atributos como um problema de busca, onde diferentes combinações são preparadas, avaliadas e comparadas com entre si. Um modelo preditivo é utilizado para avaliar a combinação de recursos e atribuir uma nota de acordo com a precisão do modelo.\n",
    " \n",
    "O processo de busca pode ser metódico (ex: busca do tipo best-first), estocástico (ex: algoritmo random hill-climbing), ou utilizar heurísticas (ex: forward/backward passes) com o intuito de adicionar ou remover atributos. \n",
    "\n",
    "Este tipo de método costuma gerar melhores seleções que o método filtro. Entretanto, são mais lentos.\n",
    " \n",
    "Um exemplo de algoritmo desta classe é o recursive feature elimination.\n",
    " \n",
    "* Embedded Methods\n",
    " \n",
    "Enquanto o modelo é criado aprendem quais características oferecem melhor contribuição para a eficiência do modelo. Os métodos de regularização (regularization methods) são os tipos mais comum deste método, também conhecidos como métodos de penalização. \n",
    " \n",
    "Introduzem uma restrição adicional na otimização do algoritmo preditivo, levando-o a um modelo de menor complexidade (menos coeficientes).\n",
    " \n",
    "Exemplos de algoritmos desta classe são: LASSO, Elastic Net e Ridge Regression."
   ]
  },
  {
   "cell_type": "markdown",
   "metadata": {
    "collapsed": true
   },
   "source": [
    "<div class=\"container-fluid\">\n",
    "    <div class=\"row\">\n",
    "        <div class=\"col-md-4\" align='center'></div>\n",
    "        <div class=\"col-md-4\" align='center'>\n",
    "            <img src='http://machinelearningmastery.com/wp-content/uploads/2014/03/feature-selection.jpg'/>\n",
    "            Feature Selection\n",
    "        </div>\n",
    "        <div class=\"col-md-6\" align='center'></div>\n",
    "    </div>\n",
    "</div>"
   ]
  },
  {
   "cell_type": "markdown",
   "metadata": {},
   "source": [
    "### Exemplos de Seleção de Atributos utilizando Python\n",
    " \n",
    "A seguir serão apresentados 4 algoritmos de feature selection, aplicados em machine learning, utilizando Python."
   ]
  },
  {
   "cell_type": "markdown",
   "metadata": {},
   "source": [
    "#### Univariate Selection\n",
    " \n",
    "De acordo com Resmini (2016) as técnicas desta categoria decompõem os dados em componentes maximamente descritivos. \n",
    "\n",
    "Testes estatísticos podem ser utilizados para selecionar os atributos com um vínculo mais forte com a variável de saída. A biblioteca scikit-learn oferece uma classe chamada SelectKBest que pode ser usada com um conjunto de diferentes testes estatísticos com o propósito de escolher um número específico de características.\n",
    " \n",
    "Os exemplos seguintes utilizam o teste estatístico chi quadrado (chi²) para atributos não negativos, onde seleciona os N melhores recursos da base de dados em questão.\n"
   ]
  },
  {
   "cell_type": "code",
   "execution_count": 50,
   "metadata": {},
   "outputs": [
    {
     "name": "stdout",
     "output_type": "stream",
     "text": [
      "\n",
      "perfil do banco de dados:\n",
      " (768, 8)\n",
      "\n",
      "resumo do placar:\n",
      " [  111.52   1411.887    17.605    53.108  2175.565   127.669     5.393\n",
      "   181.304]\n",
      "\n",
      "resumo dos atributos selecionados:\n",
      " [[ 148.     0.    33.6   50. ]\n",
      " [  85.     0.    26.6   31. ]\n",
      " [ 183.     0.    23.3   32. ]\n",
      " [  89.    94.    28.1   21. ]\n",
      " [ 137.   168.    43.1   33. ]]\n"
     ]
    }
   ],
   "source": [
    "# Chi-quadrado para classificação\n",
    "import pandas\n",
    "import numpy\n",
    "\n",
    "from sklearn.feature_selection import SelectKBest\n",
    "from sklearn.feature_selection import chi2\n",
    "\n",
    "# carregamento dos dados\n",
    "# Banco de dados: Pima Indians onset of diabetes dataset - problema de classificação binário onde todos os \n",
    "#     atributos são numéricos\n",
    "url = \"https://archive.ics.uci.edu/ml/machine-learning-databases/pima-indians-diabetes/pima-indians-diabetes.data\"\n",
    "names = ['preg', 'plas', 'pres', 'skin', 'test', 'mass', 'pedi', 'age', 'class']\n",
    "\n",
    "dataframe = pandas.read_csv(url, names=names)\n",
    "array = dataframe.values\n",
    "\n",
    "X = array[:,0:8]\n",
    "Y = array[:,8]\n",
    "\n",
    "# extração dos atributos\n",
    "test = SelectKBest(score_func=chi2, k=4)\n",
    "fit = test.fit(X, Y)\n",
    "\n",
    "print(\"\\nperfil do banco de dados:\\n\", X.shape)\n",
    "\n",
    "# resumo do placar\n",
    "numpy.set_printoptions(precision=3)\n",
    "print(\"\\nresumo do placar:\\n\", fit.scores_)\n",
    "\n",
    "features = fit.transform(X)\n",
    "\n",
    "# resumo dos atributos selecionados\n",
    "print(\"\\nresumo dos atributos selecionados:\\n\", features[0:5,:])"
   ]
  },
  {
   "cell_type": "markdown",
   "metadata": {},
   "source": [
    "Ao executar o algoritmo acima é possível observar os valores atribuídos a cada atributo de acordo com sua relevância, formando um ranking que destaca, neste caso, os quatro melhores: plas, test, mass e age."
   ]
  },
  {
   "cell_type": "code",
   "execution_count": 51,
   "metadata": {},
   "outputs": [
    {
     "name": "stdout",
     "output_type": "stream",
     "text": [
      "\n",
      "perfil do banco de dados:  (150, 4)\n",
      "\n",
      "resumo do placar:\n",
      " [  10.818    3.594  116.17    67.245]\n",
      "\n",
      "resumo dos atributos selecionados:\n",
      " [[ 1.4  0.2]\n",
      " [ 1.4  0.2]\n",
      " [ 1.3  0.2]\n",
      " [ 1.5  0.2]\n",
      " [ 1.4  0.2]]\n"
     ]
    }
   ],
   "source": [
    "# Chi-quadrado para classificação\n",
    "import pandas\n",
    "import numpy\n",
    "\n",
    "from sklearn.feature_selection import SelectKBest\n",
    "from sklearn.feature_selection import chi2\n",
    "\n",
    "# carregamento dos dados\n",
    "# Banco de dados: Iris Data Set  - problema de classificação onde todos os atributos são numéricos\n",
    "from sklearn.datasets import load_iris\n",
    "iris = load_iris()\n",
    "\n",
    "X, Y = iris.data, iris.target\n",
    "print(\"\\nperfil do banco de dados: \", X.shape)\n",
    "\n",
    "# extração dos atributos\n",
    "test2 = SelectKBest(chi2, k=2)\n",
    "fit2 = test2.fit(X, Y)\n",
    "\n",
    "# resumo do placar\n",
    "numpy.set_printoptions(precision=3)\n",
    "print(\"\\nresumo do placar:\\n\", fit2.scores_)\n",
    "\n",
    "features = fit2.transform(X)\n",
    "\n",
    "# resumo dos atributos selecionados\n",
    "print(\"\\nresumo dos atributos selecionados:\\n\", features[0:5,:])"
   ]
  },
  {
   "cell_type": "markdown",
   "metadata": {},
   "source": [
    "Já neste exemplo, ao definir a seleção dos apenas dois melhores atributos, obtem-se como resulado: petal length e petal width."
   ]
  },
  {
   "cell_type": "markdown",
   "metadata": {},
   "source": [
    "#### Recursive Feature Elimination (RFE)\n",
    " \n",
    "Método que trabalha removendo atributos recursivamente e monta o modelo com aqueles remanescentes, formando grupos cada vez menores. Identifica quais características do dataset (e possíveis combinações) contribuem mais para a predição do atributo alvo através do modelo de acurácia.\n",
    " \n",
    "No exemplo a seguir usa-se o RFE com o algoritmo de regressão logística para selecionar os 3 melhores atributos."
   ]
  },
  {
   "cell_type": "code",
   "execution_count": 52,
   "metadata": {},
   "outputs": [
    {
     "name": "stdout",
     "output_type": "stream",
     "text": [
      "\n",
      "Perfil do banco de dados:  (768, 8)\n",
      "\n",
      "Quantidade desejada de atributos (marcados como TRUE): 3\n",
      "\n",
      "Atributos selecionados: [ True False False False False  True  True False]\n",
      "\n",
      "Ranking: [1 2 3 5 6 1 1 4]\n"
     ]
    }
   ],
   "source": [
    "# Seleção de atributos com RFE\n",
    "from pandas import read_csv\n",
    "\n",
    "from sklearn.feature_selection import RFE\n",
    "from sklearn.linear_model import LogisticRegression\n",
    "\n",
    "from sklearn.svm import SVC\n",
    "import matplotlib.pyplot as plt\n",
    "\n",
    "# carregamento dos dados\n",
    "# Banco de dados: Pima Indians onset of diabetes dataset - problema de classificação binário onde todos os \n",
    "#     atributos são numéricos\n",
    "url = \"https://archive.ics.uci.edu/ml/machine-learning-databases/pima-indians-diabetes/pima-indians-diabetes.data\"\n",
    "names = ['preg', 'plas', 'pres', 'skin', 'test', 'mass', 'pedi', 'age', 'class']\n",
    "\n",
    "dataframe = read_csv(url, names=names)\n",
    "array = dataframe.values\n",
    "\n",
    "X = array[:,0:8]\n",
    "Y = array[:,8]\n",
    "\n",
    "# extração dos atributos\n",
    "model = LogisticRegression()\n",
    "rfe = RFE(model, 3)\n",
    "fit = rfe.fit(X, Y)\n",
    "\n",
    "print(\"\\nPerfil do banco de dados: \", X.shape)\n",
    "print((\"\\nQuantidade desejada de atributos (marcados como TRUE): %d\") % fit.n_features_)\n",
    "print((\"\\nAtributos selecionados: %s\") % fit.support_)\n",
    "print((\"\\nRanking: %s\") % fit.ranking_)"
   ]
  },
  {
   "cell_type": "markdown",
   "metadata": {},
   "source": [
    "No resultado acima, gerado pelo RFE, são apresentado os 3 melhores atributos: preg, mass e pedi, marcados como TRUE no array support\\_ e sinalizados como “1” no array ranking\\_.\n",
    "\n",
    "No exemplo seguintes aplica-se novamente o algoritmo de regressão logística para selecionar, agora, os 10 melhores atributos de um novo dataset:"
   ]
  },
  {
   "cell_type": "code",
   "execution_count": 53,
   "metadata": {},
   "outputs": [
    {
     "name": "stdout",
     "output_type": "stream",
     "text": [
      "\n",
      "Perfil do banco de dados:  (1797, 64)\n",
      "\n",
      "Quantidade desejada de atributos (marcados como TRUE): 10\n",
      "\n",
      "Atributos selecionados: [False False  True False False False  True False False  True False False\n",
      " False False False False False False False False False False False False\n",
      " False False False False False False  True False False  True False False\n",
      "  True False  True False False  True False False False False False False\n",
      " False False False False False False  True  True False False False False\n",
      " False False False False]\n",
      "\n",
      "Ranking: [55  3  1 17 13 16  1 46 15  1 45 34 19 26 10 35 44 33 18 27 14  4  7 23 40\n",
      " 29  8  9 22 42  1 50 54  1 30 39  1 47  1 53 52  1 11  6 21 12 25 48 49 37\n",
      " 38 36 20  2  1  1 51 41 32 28 43 24  5 31]\n"
     ]
    }
   ],
   "source": [
    "from sklearn.svm import SVC\n",
    "from sklearn.datasets import load_digits\n",
    "from sklearn.feature_selection import RFE\n",
    "import matplotlib.pyplot as plt\n",
    "\n",
    "# carregamento dos dados\n",
    "# Banco de dados: Semeion Handwritten Digit Data Set  - problema de classificação binário onde todos os \n",
    "#     atributos são numéricos\n",
    "digits = load_digits()\n",
    "X = digits.images.reshape((len(digits.images), -1))\n",
    "Y = digits.target\n",
    "\n",
    "# extração dos atributos\n",
    "model = LogisticRegression()\n",
    "rfe = RFE(model, 10)\n",
    "fit = rfe.fit(X, Y)\n",
    "\n",
    "print(\"\\nPerfil do banco de dados: \", X.shape)\n",
    "print((\"\\nQuantidade desejada de atributos (marcados como TRUE): %d\") % fit.n_features_)\n",
    "print((\"\\nAtributos selecionados: %s\") % fit.support_)\n",
    "print((\"\\nRanking: %s\") % fit.ranking_)"
   ]
  },
  {
   "cell_type": "markdown",
   "metadata": {},
   "source": [
    "Abaixo cria-se um objeto RFE e monta-se um ranking de cada pixel:"
   ]
  },
  {
   "cell_type": "code",
   "execution_count": 54,
   "metadata": {},
   "outputs": [
    {
     "data": {
      "image/png": "[encoded data removed]",
      "text/plain": [
       "<matplotlib.figure.Figure at 0x7f7c15713a58>"
      ]
     },
     "metadata": {},
     "output_type": "display_data"
    }
   ],
   "source": [
    "svc = SVC(kernel=\"linear\", C=1)\n",
    "rfe = RFE(estimator=svc, n_features_to_select=1, step=1)\n",
    "rfe.fit(X, Y)\n",
    "ranking = rfe.ranking_.reshape(digits.images[0].shape)\n",
    "\n",
    "# Monta o gráfico representando o ranking dos pixels\n",
    "plt.matshow(ranking, cmap=plt.cm.Blues)\n",
    "plt.colorbar()\n",
    "plt.title(\"\\nRanking of pixels with RFE\")\n",
    "plt.show()"
   ]
  },
  {
   "cell_type": "markdown",
   "metadata": {},
   "source": [
    "#### Principal Component Analysis (PCA)\n",
    "A Análise dos Componentes Principais usa álgebra linear para transformar um banco de dados em uma forma compacta. De maneira geral esta é conhecida como uma técnica de redução de dados. \n",
    " \n",
    "Uma propriedade do PCA é a escolha do número de dimensões ou o componente principal do resultado transformado.\n",
    " \n",
    "No exemplo abaixo utiliza-se o PCA e selecionam-se três características principais do Iris Flower dataset."
   ]
  },
  {
   "cell_type": "code",
   "execution_count": 55,
   "metadata": {},
   "outputs": [
    {
     "name": "stdout",
     "output_type": "stream",
     "text": [
      "\n",
      "perfil do banco de dados:  (768, 8)\n",
      "\n",
      "Variação: [ 0.889  0.062  0.026]\n",
      "[[ -2.022e-03   9.781e-02   1.609e-02   6.076e-02   9.931e-01   1.401e-02\n",
      "    5.372e-04  -3.565e-03]\n",
      " [ -2.265e-02  -9.722e-01  -1.419e-01   5.786e-02   9.463e-02  -4.697e-02\n",
      "   -8.168e-04  -1.402e-01]\n",
      " [ -2.246e-02   1.434e-01  -9.225e-01  -3.070e-01   2.098e-02  -1.324e-01\n",
      "   -6.400e-04  -1.255e-01]]\n"
     ]
    }
   ],
   "source": [
    "# Seleção de atributos com PCA\n",
    "import numpy\n",
    "\n",
    "from pandas import read_csv\n",
    "from sklearn.decomposition import PCA\n",
    "\n",
    "# carregamento dos dados\n",
    "url = \"https://archive.ics.uci.edu/ml/machine-learning-databases/pima-indians-diabetes/pima-indians-diabetes.data\"\n",
    "names = ['preg', 'plas', 'pres', 'skin', 'test', 'mass', 'pedi', 'age', 'class']\n",
    "\n",
    "dataframe = read_csv(url, names=names)\n",
    "array = dataframe.values\n",
    "\n",
    "X = array[:,0:8]\n",
    "Y = array[:,8]\n",
    "\n",
    "print(\"\\nperfil do banco de dados: \", X.shape)\n",
    "\n",
    "# seleção dos atributos\n",
    "pca = PCA(n_components=3)\n",
    "fit = pca.fit(X)\n",
    "\n",
    "# resumo\n",
    "print((\"\\nVariação: %s\") % fit.explained_variance_ratio_)\n",
    "print((fit.components_))"
   ]
  },
  {
   "cell_type": "markdown",
   "metadata": {},
   "source": [
    "No exemplo a seguir utiliza-se o PCA e selecionam-se dez características principais do Digit dataset."
   ]
  },
  {
   "cell_type": "code",
   "execution_count": 56,
   "metadata": {},
   "outputs": [
    {
     "name": "stdout",
     "output_type": "stream",
     "text": [
      "\n",
      "Perfil do banco de dados:  (1797, 64)\n",
      "\n",
      "Variação: [ 0.149  0.136  0.118  0.084  0.058  0.049  0.043  0.037  0.034  0.031] \n",
      "\n",
      "[[ -1.652e-17  -1.731e-02  -2.234e-01  -1.359e-01  -3.303e-02  -9.663e-02\n",
      "   -8.329e-03   2.269e-03  -3.205e-04  -1.193e-01  -2.445e-01   1.485e-01\n",
      "   -4.673e-02  -2.177e-01  -1.481e-02   4.478e-03  -4.941e-05  -7.954e-02\n",
      "    8.340e-02   2.159e-01  -1.721e-01  -1.637e-01   2.864e-02   4.233e-03\n",
      "    9.855e-05   6.423e-02   2.541e-01  -3.568e-02  -2.095e-01  -4.313e-02\n",
      "    5.131e-02   2.134e-04   0.000e+00   1.600e-01   3.687e-01   1.644e-01\n",
      "    8.520e-02   3.730e-02   2.159e-02   0.000e+00   1.289e-03   1.069e-01\n",
      "    3.031e-01   2.478e-01   2.096e-01   1.223e-02  -3.695e-02   1.615e-03\n",
      "    6.930e-04  -8.352e-03  -5.586e-02   9.305e-02   1.074e-01  -1.377e-01\n",
      "   -6.329e-02   9.617e-04   9.550e-06  -1.408e-02  -2.357e-01  -1.412e-01\n",
      "   -9.160e-03  -8.942e-02  -3.660e-02  -1.147e-02]\n",
      " [ -2.200e-18  -1.011e-02  -4.909e-02  -9.433e-03  -5.360e-02  -1.178e-01\n",
      "   -6.213e-02  -7.936e-03  -1.632e-04  -2.102e-02   6.035e-02  -5.338e-03\n",
      "   -9.198e-02  -5.192e-02  -5.894e-02  -3.333e-03  -4.229e-05   3.625e-02\n",
      "    1.983e-01  -4.864e-02  -2.256e-01  -4.506e-03   2.677e-02  -2.087e-04\n",
      "   -5.662e-05   7.712e-02   1.884e-01  -1.380e-01  -2.610e-01   4.983e-02\n",
      "    6.511e-02   4.032e-05  -0.000e+00   8.816e-02   8.717e-02  -2.709e-01\n",
      "   -2.853e-01   1.665e-01   1.279e-01  -0.000e+00   2.894e-04   5.083e-02\n",
      "    1.303e-01  -2.689e-01  -3.016e-01   2.403e-01   2.176e-01   1.327e-03\n",
      "    2.867e-04   1.055e-02   1.534e-01  -1.195e-01  -9.725e-02   2.859e-01\n",
      "    1.488e-01   5.424e-04  -3.340e-05  -1.008e-02  -7.027e-02   1.711e-02\n",
      "    1.943e-01   1.767e-01   1.946e-02  -6.697e-03]\n",
      " [ -4.339e-17   1.834e-02   1.265e-01   1.322e-01  -1.340e-01  -2.649e-01\n",
      "   -1.166e-01  -1.684e-02   3.940e-04   7.944e-02   8.744e-02   6.559e-02\n",
      "   -7.905e-04  -2.801e-01  -1.597e-01  -1.516e-02   2.126e-04   4.244e-02\n",
      "    4.727e-03   7.382e-02   9.654e-02  -3.076e-01  -1.480e-01  -6.331e-03\n",
      "    5.016e-05  -4.418e-02  -7.257e-02   7.134e-02  -8.052e-03  -3.530e-01\n",
      "   -1.483e-01  -2.185e-04  -0.000e+00  -5.450e-02  -3.360e-02   1.413e-01\n",
      "    1.501e-02  -2.580e-01  -9.384e-02  -0.000e+00  -3.200e-04  -2.415e-02\n",
      "    1.217e-01   1.714e-01  -8.578e-02  -1.446e-01   7.010e-02   2.922e-03\n",
      "   -1.291e-04   1.861e-02   2.350e-01   1.699e-01  -5.400e-02   8.490e-02\n",
      "    2.228e-01   2.186e-02  -1.398e-05   1.758e-02   1.232e-01   9.835e-02\n",
      "    1.385e-01   2.321e-01   1.670e-01   3.481e-02]\n",
      " [ -1.873e-17   2.001e-02   1.774e-01   1.957e-01   3.209e-02   9.513e-02\n",
      "    7.183e-02   9.206e-03   5.962e-05   7.488e-02   3.076e-01   3.705e-02\n",
      "   -1.537e-01   2.716e-02   4.544e-02   2.417e-03   1.123e-04   1.239e-01\n",
      "    2.198e-01  -2.756e-01  -2.784e-01  -5.735e-02   2.248e-02  -1.508e-03\n",
      "    8.945e-05   9.836e-02   1.163e-01  -1.922e-01  -2.160e-01  -8.199e-02\n",
      "    5.528e-02  -5.874e-05  -0.000e+00   5.232e-02   9.791e-02   1.048e-02\n",
      "   -1.321e-01  -1.608e-01   9.955e-03  -0.000e+00  -4.991e-04   6.270e-03\n",
      "    5.214e-02   5.897e-02  -2.563e-02  -1.943e-01  -8.436e-02  -2.290e-03\n",
      "   -4.068e-04   1.064e-02   1.073e-01   1.321e-01  -3.174e-02  -2.256e-01\n",
      "   -1.396e-01  -1.600e-02  -1.207e-05   2.101e-02   2.033e-01   2.082e-01\n",
      "   -2.245e-01  -3.077e-01  -9.939e-02  -2.447e-02]\n",
      " [ -1.488e-17   1.408e-02   8.283e-02  -6.561e-02  -1.539e-02   1.670e-01\n",
      "    9.489e-02   4.394e-03   9.687e-05   5.231e-02   4.443e-02  -4.575e-03\n",
      "   -1.339e-01  -2.154e-01   3.541e-02   9.417e-03   1.814e-04   9.869e-02\n",
      "    2.187e-01   1.463e-01  -1.319e-01  -3.622e-01  -1.774e-02   5.919e-03\n",
      "    1.572e-04   1.129e-01   3.150e-01   3.077e-01   2.763e-02  -1.686e-01\n",
      "   -9.776e-02   1.766e-04  -0.000e+00  -3.895e-02  -7.459e-02   4.650e-03\n",
      "    7.290e-02   1.685e-02  -1.058e-01  -0.000e+00  -4.061e-04  -9.922e-02\n",
      "   -3.994e-01  -2.301e-01   1.026e-01   1.200e-01  -4.121e-02  -5.313e-04\n",
      "   -7.506e-04  -2.546e-02  -2.607e-01  -1.959e-01   1.235e-01   4.592e-02\n",
      "   -1.768e-02   7.180e-03  -9.386e-05   1.246e-02   7.090e-02   2.214e-02\n",
      "    5.057e-02  -3.562e-02  -1.594e-02   2.243e-02]\n",
      " [ -3.047e-17  -9.634e-03  -8.096e-02   1.273e-02  -1.484e-02   3.140e-02\n",
      "    5.302e-02   1.367e-02  -2.532e-04  -1.247e-02  -4.980e-02  -9.443e-02\n",
      "   -2.846e-01  -1.367e-01   4.224e-02   8.354e-03  -2.925e-05  -3.255e-02\n",
      "   -1.383e-01  -3.023e-01  -2.538e-01  -1.161e-01  -3.737e-03   3.576e-03\n",
      "   -4.497e-05  -3.825e-02  -1.049e-01  -1.627e-01   2.748e-02   5.075e-02\n",
      "   -1.285e-02   2.533e-06   0.000e+00  -3.391e-02   3.392e-02   1.926e-01\n",
      "    2.846e-01   2.549e-01   5.257e-02   0.000e+00  -9.215e-04  -6.432e-02\n",
      "   -1.341e-01   5.091e-02  -1.007e-01  -9.814e-02   1.822e-01   5.877e-03\n",
      "   -1.411e-03  -5.747e-02  -2.381e-01  -2.359e-02  -3.878e-01  -1.770e-01\n",
      "    2.655e-01   1.800e-02  -9.471e-05  -1.162e-02  -7.074e-02  -2.073e-02\n",
      "   -1.070e-01   1.645e-01   1.440e-01   1.506e-02]\n",
      " [ -2.713e-17  -2.516e-03  -3.697e-02  -2.203e-02  -1.135e-01  -1.195e-01\n",
      "    1.945e-03   1.110e-02  -3.081e-04  -1.279e-03  -4.365e-02   1.039e-01\n",
      "    3.253e-03  -1.193e-01   1.528e-02   1.041e-02   9.945e-05   3.557e-02\n",
      "    2.140e-02  -2.207e-02  -7.197e-02  -1.854e-02   4.515e-02   1.789e-03\n",
      "   -2.366e-06   3.394e-02  -1.770e-01  -4.707e-01  -2.062e-01   1.779e-02\n",
      "   -3.084e-03  -1.306e-06  -0.000e+00   1.338e-02  -2.970e-01  -3.862e-01\n",
      "    3.218e-02  -2.910e-02  -3.519e-02  -0.000e+00   8.358e-04   1.225e-02\n",
      "   -2.117e-01   2.674e-02   3.308e-01  -4.658e-02  -8.989e-02  -1.833e-03\n",
      "    4.581e-04  -2.197e-02  -1.610e-01   1.463e-01   3.204e-01  -6.819e-03\n",
      "    8.118e-02   3.769e-02   7.820e-05  -9.556e-04  -7.007e-02   3.620e-02\n",
      "    4.239e-02   7.214e-02   2.176e-01   1.088e-01]\n",
      " [ -2.511e-17   2.261e-02   2.069e-01   1.007e-01  -1.228e-01  -3.162e-01\n",
      "   -9.174e-02  -5.310e-03  -5.219e-04   5.020e-02  -3.662e-02  -7.634e-02\n",
      "    7.645e-02  -3.703e-01  -1.430e-01   1.724e-03  -1.547e-04  -7.852e-02\n",
      "   -2.608e-01   7.905e-03   1.950e-01  -2.233e-01  -2.068e-02   5.913e-03\n",
      "   -1.056e-05  -1.493e-02  -1.097e-01  -3.215e-02   5.567e-02   1.190e-01\n",
      "    1.396e-01   2.889e-04   0.000e+00   1.364e-01   8.300e-02  -1.172e-01\n",
      "   -8.202e-02   3.137e-01   1.732e-01   0.000e+00   1.675e-03   9.717e-02\n",
      "   -5.730e-02  -3.732e-02  -7.484e-02   6.030e-02   4.307e-02  -8.084e-04\n",
      "    6.986e-04   2.621e-02  -1.011e-01  -1.306e-01   6.199e-02  -8.511e-02\n",
      "   -1.088e-01  -1.026e-02  -1.815e-04   2.007e-02   2.259e-01   3.905e-02\n",
      "   -1.234e-01  -3.113e-01  -1.459e-01  -1.542e-02]\n",
      " [ -4.723e-17  -1.697e-02  -9.874e-02  -4.039e-02  -1.879e-01  -2.068e-01\n",
      "   -3.057e-02   5.632e-03  -2.330e-04  -2.374e-02  -5.653e-03   3.700e-02\n",
      "    3.709e-02  -9.166e-02  -5.088e-02   4.455e-03   4.885e-04   9.456e-02\n",
      "    2.495e-01   1.443e-01   1.366e-01   1.415e-01   2.413e-02   1.846e-03\n",
      "    3.456e-04   7.127e-02   2.483e-01   1.644e-01   1.463e-01   2.914e-01\n",
      "    1.178e-01   2.941e-04   0.000e+00  -3.542e-02  -8.130e-02  -1.242e-01\n",
      "   -2.914e-01  -9.994e-02   8.561e-02   0.000e+00  -9.312e-04  -8.452e-02\n",
      "   -1.853e-01   5.400e-02  -1.335e-01  -4.145e-01   2.288e-02   4.024e-03\n",
      "   -5.268e-04  -3.757e-02  -9.077e-02   7.920e-02  -1.851e-01  -2.934e-01\n",
      "    5.997e-02   1.542e-02   3.022e-06  -1.735e-02  -1.273e-01  -8.220e-02\n",
      "   -9.031e-02   5.804e-02   1.177e-01   2.823e-02]\n",
      " [  1.778e-17  -2.478e-02  -4.713e-03   2.209e-01  -3.000e-02  -2.194e-01\n",
      "   -1.171e-01  -1.822e-02   1.145e-05  -4.690e-03   2.624e-01   1.650e-01\n",
      "    4.206e-02   1.812e-02  -1.027e-01  -1.594e-02  -1.185e-04   7.423e-02\n",
      "    3.548e-01  -7.162e-02   6.069e-02   2.099e-01  -5.259e-02  -3.421e-03\n",
      "    5.523e-05   7.146e-02   1.475e-01  -2.379e-02   2.838e-01   2.125e-01\n",
      "   -6.421e-02  -5.107e-05  -0.000e+00   2.595e-02   2.406e-02   1.657e-01\n",
      "    3.650e-01   2.638e-01   3.662e-02  -0.000e+00  -1.054e-03  -4.251e-02\n",
      "    3.635e-04   9.180e-02   1.243e-01   2.088e-01   5.861e-02   1.380e-03\n",
      "   -1.697e-03  -4.522e-02  -3.655e-02   1.728e-01   1.258e-01   1.311e-01\n",
      "    5.965e-02   1.252e-03  -8.776e-05  -2.471e-02  -2.896e-02   2.260e-01\n",
      "    6.094e-02  -3.535e-02  -3.508e-02   2.647e-03]]\n"
     ]
    }
   ],
   "source": [
    "# Seleção de atributos com PCA\n",
    "import numpy\n",
    "\n",
    "from pandas import read_csv\n",
    "from sklearn.decomposition import PCA\n",
    "\n",
    "# carregamento dos dados\n",
    "# Banco de dados: Semeion Handwritten Digit Data Set  - problema de classificação binário onde todos os \n",
    "#     atributos são numéricos\n",
    "digits = load_digits()\n",
    "X = digits.images.reshape((len(digits.images), -1))\n",
    "Y = digits.target\n",
    "\n",
    "print(\"\\nPerfil do banco de dados: \", X.shape)\n",
    "\n",
    "# seleção dos atributos\n",
    "pca = PCA(n_components=10)\n",
    "fit = pca.fit(X)\n",
    "\n",
    "# resumo\n",
    "print((\"\\nVariação: %s \\n\") % fit.explained_variance_ratio_)\n",
    "print((fit.components_))"
   ]
  },
  {
   "cell_type": "markdown",
   "metadata": {},
   "source": [
    "Acima tem-se o resultado do banco de dados transformado (com os 10 principais atributos selecionados)."
   ]
  },
  {
   "cell_type": "markdown",
   "metadata": {},
   "source": [
    "#### Feature Importance\n",
    " \n",
    "Métodos de árvores de decisão combinadas, como Random Forest e Extra Trees, podem ser utilizadas para medir a relevância dos atributos.\n",
    " \n",
    "No exemplo abaixo, para o Pima Indians onset of diabetes dataset, construiu-se um classificador ExtraTreesClassifier para o dataset em questão. No resultado gerado pode-se notar o grau de importância de cada atributo. Quanto maior o valor mais importante ele é. Logo, os recursos mais importantes são plas, age e mass. \n",
    "\n",
    "No exemplo seguinte realiza-se o mesmo procedimento para o Iris Flower dataset e nota-se que os atributos petal lenth e petal width são os mais relevantes."
   ]
  },
  {
   "cell_type": "code",
   "execution_count": 57,
   "metadata": {},
   "outputs": [
    {
     "name": "stdout",
     "output_type": "stream",
     "text": [
      "[ 0.116  0.215  0.1    0.082  0.068  0.144  0.122  0.152]\n"
     ]
    }
   ],
   "source": [
    "# Feature Importance with Extra Trees Classifier\n",
    "from pandas import read_csv\n",
    "from sklearn.ensemble import ExtraTreesClassifier\n",
    "\n",
    "# carregamento dos dados\n",
    "# Banco de dados: Pima Indians onset of diabetes dataset - problema de classificação binário onde todos os \n",
    "#     atributos são numéricos\n",
    "url = \"https://archive.ics.uci.edu/ml/machine-learning-databases/pima-indians-diabetes/pima-indians-diabetes.data\"\n",
    "names = ['preg', 'plas', 'pres', 'skin', 'test', 'mass', 'pedi', 'age', 'class']\n",
    "\n",
    "dataframe = read_csv(url, names=names)\n",
    "array = dataframe.values\n",
    "\n",
    "X = array[:,0:8]\n",
    "Y = array[:,8]\n",
    "\n",
    "# seleção dos atributos\n",
    "model = ExtraTreesClassifier()\n",
    "model.fit(X, Y)\n",
    "\n",
    "print(model.feature_importances_)"
   ]
  },
  {
   "cell_type": "code",
   "execution_count": 58,
   "metadata": {},
   "outputs": [
    {
     "name": "stdout",
     "output_type": "stream",
     "text": [
      "[ 0.082  0.068  0.301  0.549]\n"
     ]
    }
   ],
   "source": [
    "# Feature Importance with Extra Trees Classifier\n",
    "from pandas import read_csv\n",
    "from sklearn.ensemble import ExtraTreesClassifier\n",
    "\n",
    "# carregamento dos dados\n",
    "# Banco de dados: Iris Data Set  - problema de classificação onde todos os atributos são numéricos\n",
    "from sklearn.datasets import load_iris\n",
    "iris = load_iris()\n",
    "\n",
    "X, Y = iris.data, iris.target\n",
    "\n",
    "# seleção dos atributos\n",
    "model = ExtraTreesClassifier()\n",
    "model.fit(X, Y)\n",
    "\n",
    "print(model.feature_importances_)"
   ]
  },
  {
   "cell_type": "markdown",
   "metadata": {},
   "source": [
    "Abaixo uma ilustração do uso das forests trees como forma de avaliar a importância dos atributos em uma tarefa de classificação artificial. \n",
    "\n",
    "São apresentadas barras vermelhas, que representam o grau de importânica de cada atributo no meio da \"floresta\", e a variabilidade de cada uma. Nota-se que de todos os atributos 3 revelam-se mais informativos (0,1 e 2)."
   ]
  },
  {
   "cell_type": "code",
   "execution_count": 59,
   "metadata": {},
   "outputs": [
    {
     "name": "stdout",
     "output_type": "stream",
     "text": [
      "Feature ranking:\n",
      "1. feature 1 (0.295902)\n",
      "2. feature 2 (0.208351)\n",
      "3. feature 0 (0.177632)\n",
      "4. feature 3 (0.047121)\n",
      "5. feature 6 (0.046303)\n",
      "6. feature 8 (0.046013)\n",
      "7. feature 7 (0.045575)\n",
      "8. feature 4 (0.044614)\n",
      "9. feature 9 (0.044577)\n",
      "10. feature 5 (0.043912)\n"
     ]
    },
    {
     "data": {
      "image/png": "[encoded data removed]",
      "text/plain": [
       "<matplotlib.figure.Figure at 0x7f7c153dc0f0>"
      ]
     },
     "metadata": {},
     "output_type": "display_data"
    }
   ],
   "source": [
    "import numpy as np\n",
    "import matplotlib.pyplot as plt\n",
    "\n",
    "from sklearn.datasets import make_classification\n",
    "from sklearn.ensemble import ExtraTreesClassifier\n",
    "\n",
    "# Build a classification task using 3 informative features\n",
    "X, y = make_classification(n_samples=1000,\n",
    "                           n_features=10,\n",
    "                           n_informative=3,\n",
    "                           n_redundant=0,\n",
    "                           n_repeated=0,\n",
    "                           n_classes=2,\n",
    "                           random_state=0,\n",
    "                           shuffle=False)\n",
    "\n",
    "# Build a forest and compute the feature importances\n",
    "forest = ExtraTreesClassifier(n_estimators=250,\n",
    "                              random_state=0)\n",
    "\n",
    "forest.fit(X, y)\n",
    "importances = forest.feature_importances_\n",
    "std = np.std([tree.feature_importances_ for tree in forest.estimators_],\n",
    "             axis=0)\n",
    "indices = np.argsort(importances)[::-1]\n",
    "\n",
    "# Print the feature ranking\n",
    "print(\"Feature ranking:\")\n",
    "\n",
    "for f in range(X.shape[1]):\n",
    "    print(\"%d. feature %d (%f)\" % (f + 1, indices[f], importances[indices[f]]))\n",
    "\n",
    "# Plot the feature importances of the forest\n",
    "plt.figure()\n",
    "plt.title(\"Feature importances\")\n",
    "plt.bar(range(X.shape[1]), importances[indices],\n",
    "       color=\"r\", yerr=std[indices], align=\"center\")\n",
    "plt.xticks(range(X.shape[1]), indices)\n",
    "plt.xlim([-1, X.shape[1]])\n",
    "plt.show()"
   ]
  },
  {
   "cell_type": "markdown",
   "metadata": {
    "collapsed": true
   },
   "source": [
    "## Referências\n",
    "\n",
    "\n",
    "CAMPOS, Teófilo Emıdio de. Técnicas de seleçao de caracterısticas com aplicaçoes em reconhecimento de faces. 2001. Tese de Doutorado. Master’s thesis, Universidade de Sa Paulo.\n",
    "\n",
    "JAIN, Anil K.; DUIN, Robert P.. W.. ; MAO, Jianchang. Statistical pattern recognition: A review. IEEE Transactions on pattern analysis and machine intelligence, v. 22, n. 1, p. 4-37, 2000.\n",
    "APA\t\n",
    "\n",
    "HARALICK, Robert M. et al. Textural features for image classification. IEEE Transactions on systems, man, and cybernetics, n. 6, p. 610-621, 1973.\n",
    "\n",
    "RESMINI, Roger. Classificação de doenças da mama usando imagens por infravermelho. 2016. Tese de Doutorado, Universidade Federal Fluminense\n",
    "\n",
    "SKIMAGE. Image Processing in Python. 2017. http://scikit-image.org\n",
    "\n",
    "SCIKIT LEARN. Feature selection. 2017. http://scikit-learn.org/stable/modules/feature_selection.html\n",
    "\n",
    "BROWNLEE, Jason. An Introduction to Feature Selection. 2014. http://machinelearningmastery.com/an-introduction-to-feature-selection/\n",
    "\n",
    "BROWNLEE, Jason. Feature Selection For Machine Learning in Python. 2016. http://machinelearningmastery.com/feature-selection-machine-learning-python/\n"
   ]
  }
 ],
 "metadata": {
  "anaconda-cloud": {},
  "kernelspec": {
   "display_name": "Python 3",
   "language": "python",
   "name": "python3"
  },
  "language_info": {
   "codemirror_mode": {
    "name": "ipython",
    "version": 3
   },
   "file_extension": ".py",
   "mimetype": "text/x-python",
   "name": "python",
   "nbconvert_exporter": "python",
   "pygments_lexer": "ipython3",
   "version": "3.6.1"
  },
  "latex_envs": {
   "LaTeX_envs_menu_present": true,
   "autocomplete": true,
   "bibliofile": "biblio.bib",
   "cite_by": "apalike",
   "current_citInitial": 1,
   "eqLabelWithNumbers": true,
   "eqNumInitial": 1,
   "hotkeys": {
    "equation": "Ctrl-E",
    "itemize": "Ctrl-I"
   },
   "labels_anchors": false,
   "latex_user_defs": false,
   "report_style_numbering": false,
   "user_envs_cfg": false
  }
 },
 "nbformat": 4,
 "nbformat_minor": 2
}
